{
 "cells": [
  {
   "cell_type": "code",
   "execution_count": 3,
   "metadata": {},
   "outputs": [],
   "source": [
    "# Imports & Spark setup\n",
    "from pyspark.ml.feature import VectorAssembler\n",
    "from pyspark.ml.clustering import KMeans\n",
    "from pyspark.sql.types import FloatType, StringType\n",
    "from pyspark.sql import Row\n",
    "from pyspark.sql.functions import broadcast, udf\n",
    "import numpy as np\n",
    "from tools import setup_spark_config, read_parquet_files\n",
    "\n",
    "sc, spark = setup_spark_config(\"Clustering Million Song Dataset\")"
   ]
  },
  {
   "cell_type": "code",
   "execution_count": 4,
   "metadata": {},
   "outputs": [
    {
     "name": "stdout",
     "output_type": "stream",
     "text": [
      "Reading songs from parquet files to DataFrame\n"
     ]
    }
   ],
   "source": [
    "# read songs data from parquet files\n",
    "basedir = 'parsed-MillionSongSubset'\n",
    "songs_df = read_parquet_files(basedir, spark)"
   ]
  },
  {
   "cell_type": "code",
   "execution_count": 5,
   "metadata": {},
   "outputs": [
    {
     "name": "stdout",
     "output_type": "stream",
     "text": [
      "+--------+------------+----+------------------+--------------+---+-------+\n",
      "|loudness|song_hotness|year|artist_familiarity|artist_hotness|key|  tempo|\n",
      "+--------+------------+----+------------------+--------------+---+-------+\n",
      "|  -9.636|  0.54795295|2008|        0.55746025|    0.38615164|  0|124.059|\n",
      "| -11.061|  0.47563848|2004|         0.6269577|     0.4348596|  1| 80.084|\n",
      "|  -4.264|   0.7883882|1982|        0.73703754|     0.5392454| 10| 92.897|\n",
      "|  -4.707|    0.681092|2004|         0.8218443|     0.5924395|  0|157.715|\n",
      "|  -4.523|  0.40148672|2005|        0.49579692|    0.38949883|  0|146.331|\n",
      "|  -4.076|   0.6878737|2004|        0.73343325|     0.4555588|  0| 84.992|\n",
      "|  -3.312|  0.35528553|2001|        0.48433375|     0.3359355|  1| 99.959|\n",
      "| -25.651|  0.21508032|1982|         0.5772761|    0.37693998|  1|104.989|\n",
      "|  -6.052|  0.87222904|2000|         0.8873861|      0.791143|  4|105.095|\n",
      "| -15.433|   0.5968407|1981|         0.6559214|     0.5783016|  5|100.042|\n",
      "|  -4.325|   0.6248335|2007|        0.55454856|     0.4115458|  3| 92.971|\n",
      "|  -5.193|  0.42744657|2008|          0.612543|    0.45966047| 11|117.936|\n",
      "|  -6.712|         0.0|2004|         0.6117883|    0.33672684|  7|104.465|\n",
      "|   -4.13|   0.4871122|2007|         0.9089843|     0.5625067|  4| 91.026|\n",
      "|  -7.687|  0.28848165|1978|        0.51462424|    0.36951157|  4|134.985|\n",
      "|  -7.687|   0.5675917|1995|         0.6639529|    0.39207578| 11|  88.12|\n",
      "|  -21.82|  0.50403434|2000|        0.67497027|    0.42495307|  5|131.281|\n",
      "|  -5.548|      0.5764|2005|        0.63204175|     0.3879116|  9|136.945|\n",
      "|  -7.057|   0.4764352|2007|        0.89993495|    0.68365806|  1| 188.91|\n",
      "| -13.845|   0.2998775|1986|        0.61760867|    0.40596735|  7|156.285|\n",
      "+--------+------------+----+------------------+--------------+---+-------+\n",
      "only showing top 20 rows\n",
      "\n"
     ]
    }
   ],
   "source": [
    "songs_df.show()"
   ]
  },
  {
   "cell_type": "code",
   "execution_count": 6,
   "metadata": {},
   "outputs": [],
   "source": [
    "# transform grouped (by year) data to vector to use for clustering\n",
    "input_cols = [\"loudness\", \\\n",
    "              \"song_hotness\", \\\n",
    "              \"artist_familiarity\", \\\n",
    "              \"artist_hotness\", \\\n",
    "              \"key\", \\\n",
    "              \"tempo\"]\n",
    "vecAssembler = VectorAssembler(inputCols=input_cols, \\\n",
    "                               outputCol=\"features\")\n",
    "vec_df = vecAssembler.transform(songs_df)"
   ]
  },
  {
   "cell_type": "code",
   "execution_count": 7,
   "metadata": {},
   "outputs": [
    {
     "name": "stdout",
     "output_type": "stream",
     "text": [
      "+--------+------------+----+------------------+--------------+---+-------+--------------------+\n",
      "|loudness|song_hotness|year|artist_familiarity|artist_hotness|key|  tempo|            features|\n",
      "+--------+------------+----+------------------+--------------+---+-------+--------------------+\n",
      "|  -9.636|  0.54795295|2008|        0.55746025|    0.38615164|  0|124.059|[-9.6359996795654...|\n",
      "| -11.061|  0.47563848|2004|         0.6269577|     0.4348596|  1| 80.084|[-11.060999870300...|\n",
      "|  -4.264|   0.7883882|1982|        0.73703754|     0.5392454| 10| 92.897|[-4.2639999389648...|\n",
      "|  -4.707|    0.681092|2004|         0.8218443|     0.5924395|  0|157.715|[-4.7069997787475...|\n",
      "|  -4.523|  0.40148672|2005|        0.49579692|    0.38949883|  0|146.331|[-4.5229997634887...|\n",
      "|  -4.076|   0.6878737|2004|        0.73343325|     0.4555588|  0| 84.992|[-4.0760002136230...|\n",
      "|  -3.312|  0.35528553|2001|        0.48433375|     0.3359355|  1| 99.959|[-3.3120000362396...|\n",
      "| -25.651|  0.21508032|1982|         0.5772761|    0.37693998|  1|104.989|[-25.650999069213...|\n",
      "|  -6.052|  0.87222904|2000|         0.8873861|      0.791143|  4|105.095|[-6.0520000457763...|\n",
      "| -15.433|   0.5968407|1981|         0.6559214|     0.5783016|  5|100.042|[-15.432999610900...|\n",
      "|  -4.325|   0.6248335|2007|        0.55454856|     0.4115458|  3| 92.971|[-4.3249998092651...|\n",
      "|  -5.193|  0.42744657|2008|          0.612543|    0.45966047| 11|117.936|[-5.1929998397827...|\n",
      "|  -6.712|         0.0|2004|         0.6117883|    0.33672684|  7|104.465|[-6.7119998931884...|\n",
      "|   -4.13|   0.4871122|2007|         0.9089843|     0.5625067|  4| 91.026|[-4.1300001144409...|\n",
      "|  -7.687|  0.28848165|1978|        0.51462424|    0.36951157|  4|134.985|[-7.6869997978210...|\n",
      "|  -7.687|   0.5675917|1995|         0.6639529|    0.39207578| 11|  88.12|[-7.6869997978210...|\n",
      "|  -21.82|  0.50403434|2000|        0.67497027|    0.42495307|  5|131.281|[-21.819999694824...|\n",
      "|  -5.548|      0.5764|2005|        0.63204175|     0.3879116|  9|136.945|[-5.5479998588562...|\n",
      "|  -7.057|   0.4764352|2007|        0.89993495|    0.68365806|  1| 188.91|[-7.0570001602172...|\n",
      "| -13.845|   0.2998775|1986|        0.61760867|    0.40596735|  7|156.285|[-13.845000267028...|\n",
      "+--------+------------+----+------------------+--------------+---+-------+--------------------+\n",
      "only showing top 20 rows\n",
      "\n"
     ]
    }
   ],
   "source": [
    "vec_df.show()"
   ]
  },
  {
   "cell_type": "code",
   "execution_count": 8,
   "metadata": {},
   "outputs": [],
   "source": [
    "# fit a KMeans model to the vector transform of the grouped (by year) data\n",
    "kmeans = KMeans(k=len(input_cols), seed=1)\n",
    "model = kmeans.fit(vec_df.select('features'))"
   ]
  },
  {
   "cell_type": "code",
   "execution_count": 9,
   "metadata": {},
   "outputs": [],
   "source": [
    "# cluster the vector transform of the grouped (by year) data\n",
    "transformed_df = model.transform(vec_df)"
   ]
  },
  {
   "cell_type": "code",
   "execution_count": 10,
   "metadata": {},
   "outputs": [
    {
     "name": "stdout",
     "output_type": "stream",
     "text": [
      "+--------+------------+----+------------------+--------------+---+-------+--------------------+----------+\n",
      "|loudness|song_hotness|year|artist_familiarity|artist_hotness|key|  tempo|            features|prediction|\n",
      "+--------+------------+----+------------------+--------------+---+-------+--------------------+----------+\n",
      "|  -9.636|  0.54795295|2008|        0.55746025|    0.38615164|  0|124.059|[-9.6359996795654...|         1|\n",
      "| -11.061|  0.47563848|2004|         0.6269577|     0.4348596|  1| 80.084|[-11.060999870300...|         5|\n",
      "|  -4.264|   0.7883882|1982|        0.73703754|     0.5392454| 10| 92.897|[-4.2639999389648...|         0|\n",
      "|  -4.707|    0.681092|2004|         0.8218443|     0.5924395|  0|157.715|[-4.7069997787475...|         4|\n",
      "|  -4.523|  0.40148672|2005|        0.49579692|    0.38949883|  0|146.331|[-4.5229997634887...|         4|\n",
      "|  -4.076|   0.6878737|2004|        0.73343325|     0.4555588|  0| 84.992|[-4.0760002136230...|         0|\n",
      "|  -3.312|  0.35528553|2001|        0.48433375|     0.3359355|  1| 99.959|[-3.3120000362396...|         0|\n",
      "| -25.651|  0.21508032|1982|         0.5772761|    0.37693998|  1|104.989|[-25.650999069213...|         0|\n",
      "|  -6.052|  0.87222904|2000|         0.8873861|      0.791143|  4|105.095|[-6.0520000457763...|         0|\n",
      "| -15.433|   0.5968407|1981|         0.6559214|     0.5783016|  5|100.042|[-15.432999610900...|         0|\n",
      "|  -4.325|   0.6248335|2007|        0.55454856|     0.4115458|  3| 92.971|[-4.3249998092651...|         0|\n",
      "|  -5.193|  0.42744657|2008|          0.612543|    0.45966047| 11|117.936|[-5.1929998397827...|         1|\n",
      "|  -6.712|         0.0|2004|         0.6117883|    0.33672684|  7|104.465|[-6.7119998931884...|         0|\n",
      "|   -4.13|   0.4871122|2007|         0.9089843|     0.5625067|  4| 91.026|[-4.1300001144409...|         0|\n",
      "|  -7.687|  0.28848165|1978|        0.51462424|    0.36951157|  4|134.985|[-7.6869997978210...|         4|\n",
      "|  -7.687|   0.5675917|1995|         0.6639529|    0.39207578| 11|  88.12|[-7.6869997978210...|         0|\n",
      "|  -21.82|  0.50403434|2000|        0.67497027|    0.42495307|  5|131.281|[-21.819999694824...|         1|\n",
      "|  -5.548|      0.5764|2005|        0.63204175|     0.3879116|  9|136.945|[-5.5479998588562...|         4|\n",
      "|  -7.057|   0.4764352|2007|        0.89993495|    0.68365806|  1| 188.91|[-7.0570001602172...|         3|\n",
      "| -13.845|   0.2998775|1986|        0.61760867|    0.40596735|  7|156.285|[-13.845000267028...|         4|\n",
      "+--------+------------+----+------------------+--------------+---+-------+--------------------+----------+\n",
      "only showing top 20 rows\n",
      "\n"
     ]
    }
   ],
   "source": [
    "transformed_df.show()"
   ]
  },
  {
   "cell_type": "code",
   "execution_count": 11,
   "metadata": {},
   "outputs": [],
   "source": [
    "# create dataframe for each centroid\n",
    "centroids = model.clusterCenters()\n",
    "centroids = np.array(centroids).T.tolist()\n",
    "centroids.append([i for i in range(len(input_cols))])\n",
    "\n",
    "R = Row(\"loudness\", \\\n",
    "        \"song_hotness\", \\\n",
    "        \"artist_familiarity\", \\\n",
    "        \"artist_hotness\", \\\n",
    "        \"key\", \\\n",
    "        \"tempo\", \\\n",
    "        \"centroid\")\n",
    "centroids_df = sc.parallelize([R(*r) for r in zip(*centroids)]).toDF()"
   ]
  },
  {
   "cell_type": "code",
   "execution_count": 12,
   "metadata": {},
   "outputs": [
    {
     "name": "stdout",
     "output_type": "stream",
     "text": [
      "+-------------------+-------------------+------------------+------------------+------------------+------------------+--------+\n",
      "|           loudness|       song_hotness|artist_familiarity|    artist_hotness|               key|             tempo|centroid|\n",
      "+-------------------+-------------------+------------------+------------------+------------------+------------------+--------+\n",
      "| -9.601248617988924|0.43143110260449724|0.6319199618055017|0.4415737438761727|5.3535911602209945| 95.64976029369713|       0|\n",
      "| -9.210976199227936| 0.4506732383383915| 0.640198458784393|0.4465091046866646| 5.380952380952381|122.39838436239161|       1|\n",
      "|  -8.62233099131517| 0.4758835130594146|0.6536595206445371|0.4462047878285529| 4.711267605633803|208.00740814208984|       2|\n",
      "| -8.520272992123132| 0.4563011870901475| 0.651254778278285|0.4543562534896807| 4.847701149425287|173.10547703710097|       3|\n",
      "| -8.700728515549413| 0.4588742870806039|0.6371752564712077|0.4425835703290735|   5.3929173693086|147.18212790272085|       4|\n",
      "|-13.172917570035482| 0.3873741469278778|0.6068981307241873|0.4256944743551544| 5.103092783505154| 66.50143302838826|       5|\n",
      "+-------------------+-------------------+------------------+------------------+------------------+------------------+--------+\n",
      "\n"
     ]
    }
   ],
   "source": [
    "centroids_df.show()"
   ]
  },
  {
   "cell_type": "code",
   "execution_count": 17,
   "metadata": {},
   "outputs": [],
   "source": [
    "# add fictional genre to each centroid\n",
    "genres = [\"hot&loud\", \"plain\", \"mellow&soft\", \"mainstream\", \"temp1\", \"temp2\"]\n",
    "\n",
    "def add_genre(centroid):\n",
    "    print(centroid)\n",
    "    return genres[int(centroid)]\n",
    "\n",
    "udf_add_genre = udf(add_genre, StringType())\n",
    "genres_df = centroids_df.withColumn(\"genre\", udf_add_genre(\"centroid\")).select(\"centroid\", \"genre\")"
   ]
  },
  {
   "cell_type": "code",
   "execution_count": 18,
   "metadata": {},
   "outputs": [
    {
     "name": "stdout",
     "output_type": "stream",
     "text": [
      "+--------+-----------+\n",
      "|centroid|      genre|\n",
      "+--------+-----------+\n",
      "|       0|   hot&loud|\n",
      "|       1|      plain|\n",
      "|       2|mellow&soft|\n",
      "|       3| mainstream|\n",
      "|       4|      temp1|\n",
      "|       5|      temp2|\n",
      "+--------+-----------+\n",
      "\n"
     ]
    }
   ],
   "source": [
    "genres_df.show()"
   ]
  },
  {
   "cell_type": "code",
   "execution_count": 19,
   "metadata": {},
   "outputs": [],
   "source": [
    "# add centroid genre to songs\n",
    "song_genres_df = transformed_df.join(broadcast(genres_df), transformed_df.prediction == genres_df.centroid) \\\n",
    "    .select(\"loudness\", \\\n",
    "            \"song_hotness\", \\\n",
    "            \"artist_familiarity\", \\\n",
    "            \"artist_hotness\", \\\n",
    "            \"key\", \\\n",
    "            \"tempo\", \\\n",
    "            \"genre\")"
   ]
  },
  {
   "cell_type": "code",
   "execution_count": 20,
   "metadata": {},
   "outputs": [
    {
     "name": "stdout",
     "output_type": "stream",
     "text": [
      "+--------+------------+------------------+--------------+---+-------+----------+\n",
      "|loudness|song_hotness|artist_familiarity|artist_hotness|key|  tempo|     genre|\n",
      "+--------+------------+------------------+--------------+---+-------+----------+\n",
      "|  -9.636|  0.54795295|        0.55746025|    0.38615164|  0|124.059|     plain|\n",
      "| -11.061|  0.47563848|         0.6269577|     0.4348596|  1| 80.084|     temp2|\n",
      "|  -4.264|   0.7883882|        0.73703754|     0.5392454| 10| 92.897|  hot&loud|\n",
      "|  -4.707|    0.681092|         0.8218443|     0.5924395|  0|157.715|     temp1|\n",
      "|  -4.523|  0.40148672|        0.49579692|    0.38949883|  0|146.331|     temp1|\n",
      "|  -4.076|   0.6878737|        0.73343325|     0.4555588|  0| 84.992|  hot&loud|\n",
      "|  -3.312|  0.35528553|        0.48433375|     0.3359355|  1| 99.959|  hot&loud|\n",
      "| -25.651|  0.21508032|         0.5772761|    0.37693998|  1|104.989|  hot&loud|\n",
      "|  -6.052|  0.87222904|         0.8873861|      0.791143|  4|105.095|  hot&loud|\n",
      "| -15.433|   0.5968407|         0.6559214|     0.5783016|  5|100.042|  hot&loud|\n",
      "|  -4.325|   0.6248335|        0.55454856|     0.4115458|  3| 92.971|  hot&loud|\n",
      "|  -5.193|  0.42744657|          0.612543|    0.45966047| 11|117.936|     plain|\n",
      "|  -6.712|         0.0|         0.6117883|    0.33672684|  7|104.465|  hot&loud|\n",
      "|   -4.13|   0.4871122|         0.9089843|     0.5625067|  4| 91.026|  hot&loud|\n",
      "|  -7.687|  0.28848165|        0.51462424|    0.36951157|  4|134.985|     temp1|\n",
      "|  -7.687|   0.5675917|         0.6639529|    0.39207578| 11|  88.12|  hot&loud|\n",
      "|  -21.82|  0.50403434|        0.67497027|    0.42495307|  5|131.281|     plain|\n",
      "|  -5.548|      0.5764|        0.63204175|     0.3879116|  9|136.945|     temp1|\n",
      "|  -7.057|   0.4764352|        0.89993495|    0.68365806|  1| 188.91|mainstream|\n",
      "| -13.845|   0.2998775|        0.61760867|    0.40596735|  7|156.285|     temp1|\n",
      "+--------+------------+------------------+--------------+---+-------+----------+\n",
      "only showing top 20 rows\n",
      "\n"
     ]
    }
   ],
   "source": [
    "song_genres_df.show()"
   ]
  },
  {
   "cell_type": "code",
   "execution_count": 21,
   "metadata": {},
   "outputs": [],
   "source": [
    "song_genres_df.createOrReplaceTempView(\"songs_with_genres\")"
   ]
  },
  {
   "cell_type": "code",
   "execution_count": 22,
   "metadata": {},
   "outputs": [
    {
     "name": "stdout",
     "output_type": "stream",
     "text": [
      "There are 354 mainstream songs in the dataset\n",
      "There are 907 hot&loud songs in the dataset\n",
      "There are 142 mellow&soft songs in the dataset\n",
      "There are 876 plain songs in the dataset\n"
     ]
    }
   ],
   "source": [
    "n_mainstream_songs = spark.sql(\"SELECT COUNT(*) FROM songs_with_genres WHERE genre = \\\"mainstream\\\"\").collect()[0][0]\n",
    "n_hotnloud_songs = spark.sql(\"SELECT COUNT(*) FROM songs_with_genres WHERE genre = \\\"hot&loud\\\"\").collect()[0][0]\n",
    "n_mellownsoft_songs = spark.sql(\"SELECT COUNT(*) FROM songs_with_genres WHERE genre = \\\"mellow&soft\\\"\").collect()[0][0]\n",
    "n_plain_songs = spark.sql(\"SELECT COUNT(*) FROM songs_with_genres WHERE genre = \\\"plain\\\"\").collect()[0][0]\n",
    "\n",
    "print(\"There are %d mainstream songs in the dataset\" % (n_mainstream_songs))\n",
    "print(\"There are %d hot&loud songs in the dataset\" % (n_hotnloud_songs))\n",
    "print(\"There are %d mellow&soft songs in the dataset\" % (n_mellownsoft_songs))\n",
    "print(\"There are %d plain songs in the dataset\" % (n_plain_songs))"
   ]
  },
  {
   "cell_type": "code",
   "execution_count": null,
   "metadata": {},
   "outputs": [],
   "source": []
  }
 ],
 "metadata": {
  "kernelspec": {
   "display_name": "Python 3",
   "language": "python",
   "name": "python3"
  },
  "language_info": {
   "codemirror_mode": {
    "name": "ipython",
    "version": 3
   },
   "file_extension": ".py",
   "mimetype": "text/x-python",
   "name": "python",
   "nbconvert_exporter": "python",
   "pygments_lexer": "ipython3",
   "version": "3.6.5"
  }
 },
 "nbformat": 4,
 "nbformat_minor": 2
}
