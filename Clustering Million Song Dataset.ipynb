{
 "cells": [
  {
   "cell_type": "code",
   "execution_count": 1,
   "metadata": {},
   "outputs": [],
   "source": [
    "# Imports & Spark setup\n",
    "from pyspark.ml.feature import VectorAssembler\n",
    "from pyspark.ml.clustering import KMeans\n",
    "from pyspark.sql.types import FloatType, StringType\n",
    "from pyspark.sql import Row\n",
    "from pyspark.sql.functions import broadcast, udf\n",
    "import numpy as np\n",
    "from tools import setup_spark_config, read_parquet_files\n",
    "\n",
    "sc, spark = setup_spark_config(\"Clustering Million Song Dataset\")"
   ]
  },
  {
   "cell_type": "code",
   "execution_count": 2,
   "metadata": {},
   "outputs": [
    {
     "name": "stdout",
     "output_type": "stream",
     "text": [
      "Reading songs from parquet files to DataFrame\n"
     ]
    }
   ],
   "source": [
    "# read songs data from parquet files\n",
    "basedir = 'parsed_songs'\n",
    "songs_df = read_parquet_files(basedir, spark)"
   ]
  },
  {
   "cell_type": "code",
   "execution_count": 3,
   "metadata": {},
   "outputs": [
    {
     "name": "stdout",
     "output_type": "stream",
     "text": [
      "+------------+------+--------+----------+----+\n",
      "|danceability|energy|loudness|   hotness|year|\n",
      "+------------+------+--------+----------+----+\n",
      "|         0.0|   0.0|  -9.636|0.54795295|2008|\n",
      "|         0.0|   0.0| -11.061|0.47563848|2004|\n",
      "|         0.0|   0.0|  -4.264| 0.7883882|1982|\n",
      "|         0.0|   0.0|  -4.707|  0.681092|2004|\n",
      "|         0.0|   0.0|  -4.523|0.40148672|2005|\n",
      "|         0.0|   0.0|  -4.076| 0.6878737|2004|\n",
      "|         0.0|   0.0|  -3.312|0.35528553|2001|\n",
      "|         0.0|   0.0| -25.651|0.21508032|1982|\n",
      "|         0.0|   0.0|  -6.052|0.87222904|2000|\n",
      "|         0.0|   0.0| -15.433| 0.5968407|1981|\n",
      "|         0.0|   0.0|  -4.325| 0.6248335|2007|\n",
      "|         0.0|   0.0|  -5.193|0.42744657|2008|\n",
      "|         0.0|   0.0|  -6.712|       0.0|2004|\n",
      "|         0.0|   0.0|   -4.13| 0.4871122|2007|\n",
      "|         0.0|   0.0|  -7.687|0.28848165|1978|\n",
      "|         0.0|   0.0|  -7.687| 0.5675917|1995|\n",
      "|         0.0|   0.0|  -21.82|0.50403434|2000|\n",
      "|         0.0|   0.0|  -5.548|    0.5764|2005|\n",
      "|         0.0|   0.0|  -7.057| 0.4764352|2007|\n",
      "|         0.0|   0.0| -13.845| 0.2998775|1986|\n",
      "+------------+------+--------+----------+----+\n",
      "only showing top 20 rows\n",
      "\n"
     ]
    }
   ],
   "source": [
    "songs_df.show()"
   ]
  },
  {
   "cell_type": "code",
   "execution_count": 4,
   "metadata": {},
   "outputs": [],
   "source": [
    "# transform grouped (by year) data to vector to use for clustering\n",
    "input_cols = [\"danceability\", \"energy\", \"loudness\", \"hotness\"]\n",
    "vecAssembler = VectorAssembler(inputCols=input_cols, \\\n",
    "                               outputCol=\"features\")\n",
    "vec_df = vecAssembler.transform(songs_df)"
   ]
  },
  {
   "cell_type": "code",
   "execution_count": 5,
   "metadata": {},
   "outputs": [
    {
     "name": "stdout",
     "output_type": "stream",
     "text": [
      "+------------+------+--------+----------+----+--------------------+\n",
      "|danceability|energy|loudness|   hotness|year|            features|\n",
      "+------------+------+--------+----------+----+--------------------+\n",
      "|         0.0|   0.0|  -9.636|0.54795295|2008|[0.0,0.0,-9.63599...|\n",
      "|         0.0|   0.0| -11.061|0.47563848|2004|[0.0,0.0,-11.0609...|\n",
      "|         0.0|   0.0|  -4.264| 0.7883882|1982|[0.0,0.0,-4.26399...|\n",
      "|         0.0|   0.0|  -4.707|  0.681092|2004|[0.0,0.0,-4.70699...|\n",
      "|         0.0|   0.0|  -4.523|0.40148672|2005|[0.0,0.0,-4.52299...|\n",
      "|         0.0|   0.0|  -4.076| 0.6878737|2004|[0.0,0.0,-4.07600...|\n",
      "|         0.0|   0.0|  -3.312|0.35528553|2001|[0.0,0.0,-3.31200...|\n",
      "|         0.0|   0.0| -25.651|0.21508032|1982|[0.0,0.0,-25.6509...|\n",
      "|         0.0|   0.0|  -6.052|0.87222904|2000|[0.0,0.0,-6.05200...|\n",
      "|         0.0|   0.0| -15.433| 0.5968407|1981|[0.0,0.0,-15.4329...|\n",
      "|         0.0|   0.0|  -4.325| 0.6248335|2007|[0.0,0.0,-4.32499...|\n",
      "|         0.0|   0.0|  -5.193|0.42744657|2008|[0.0,0.0,-5.19299...|\n",
      "|         0.0|   0.0|  -6.712|       0.0|2004|(4,[2],[-6.711999...|\n",
      "|         0.0|   0.0|   -4.13| 0.4871122|2007|[0.0,0.0,-4.13000...|\n",
      "|         0.0|   0.0|  -7.687|0.28848165|1978|[0.0,0.0,-7.68699...|\n",
      "|         0.0|   0.0|  -7.687| 0.5675917|1995|[0.0,0.0,-7.68699...|\n",
      "|         0.0|   0.0|  -21.82|0.50403434|2000|[0.0,0.0,-21.8199...|\n",
      "|         0.0|   0.0|  -5.548|    0.5764|2005|[0.0,0.0,-5.54799...|\n",
      "|         0.0|   0.0|  -7.057| 0.4764352|2007|[0.0,0.0,-7.05700...|\n",
      "|         0.0|   0.0| -13.845| 0.2998775|1986|[0.0,0.0,-13.8450...|\n",
      "+------------+------+--------+----------+----+--------------------+\n",
      "only showing top 20 rows\n",
      "\n"
     ]
    }
   ],
   "source": [
    "vec_df.show()"
   ]
  },
  {
   "cell_type": "code",
   "execution_count": 6,
   "metadata": {},
   "outputs": [],
   "source": [
    "# fit a KMeans model to the vector transform of the grouped (by year) data\n",
    "kmeans = KMeans(k=len(input_cols), seed=1)\n",
    "model = kmeans.fit(vec_df.select('features'))"
   ]
  },
  {
   "cell_type": "code",
   "execution_count": 7,
   "metadata": {},
   "outputs": [],
   "source": [
    "# cluster the vector transform of the grouped (by year) data\n",
    "transformed_df = model.transform(vec_df)"
   ]
  },
  {
   "cell_type": "code",
   "execution_count": 8,
   "metadata": {},
   "outputs": [
    {
     "name": "stdout",
     "output_type": "stream",
     "text": [
      "+------------+------+--------+----------+----+--------------------+----------+\n",
      "|danceability|energy|loudness|   hotness|year|            features|prediction|\n",
      "+------------+------+--------+----------+----+--------------------+----------+\n",
      "|         0.0|   0.0|  -9.636|0.54795295|2008|[0.0,0.0,-9.63599...|         3|\n",
      "|         0.0|   0.0| -11.061|0.47563848|2004|[0.0,0.0,-11.0609...|         3|\n",
      "|         0.0|   0.0|  -4.264| 0.7883882|1982|[0.0,0.0,-4.26399...|         0|\n",
      "|         0.0|   0.0|  -4.707|  0.681092|2004|[0.0,0.0,-4.70699...|         0|\n",
      "|         0.0|   0.0|  -4.523|0.40148672|2005|[0.0,0.0,-4.52299...|         0|\n",
      "|         0.0|   0.0|  -4.076| 0.6878737|2004|[0.0,0.0,-4.07600...|         0|\n",
      "|         0.0|   0.0|  -3.312|0.35528553|2001|[0.0,0.0,-3.31200...|         0|\n",
      "|         0.0|   0.0| -25.651|0.21508032|1982|[0.0,0.0,-25.6509...|         2|\n",
      "|         0.0|   0.0|  -6.052|0.87222904|2000|[0.0,0.0,-6.05200...|         0|\n",
      "|         0.0|   0.0| -15.433| 0.5968407|1981|[0.0,0.0,-15.4329...|         1|\n",
      "|         0.0|   0.0|  -4.325| 0.6248335|2007|[0.0,0.0,-4.32499...|         0|\n",
      "|         0.0|   0.0|  -5.193|0.42744657|2008|[0.0,0.0,-5.19299...|         0|\n",
      "|         0.0|   0.0|  -6.712|       0.0|2004|(4,[2],[-6.711999...|         0|\n",
      "|         0.0|   0.0|   -4.13| 0.4871122|2007|[0.0,0.0,-4.13000...|         0|\n",
      "|         0.0|   0.0|  -7.687|0.28848165|1978|[0.0,0.0,-7.68699...|         3|\n",
      "|         0.0|   0.0|  -7.687| 0.5675917|1995|[0.0,0.0,-7.68699...|         3|\n",
      "|         0.0|   0.0|  -21.82|0.50403434|2000|[0.0,0.0,-21.8199...|         2|\n",
      "|         0.0|   0.0|  -5.548|    0.5764|2005|[0.0,0.0,-5.54799...|         0|\n",
      "|         0.0|   0.0|  -7.057| 0.4764352|2007|[0.0,0.0,-7.05700...|         0|\n",
      "|         0.0|   0.0| -13.845| 0.2998775|1986|[0.0,0.0,-13.8450...|         1|\n",
      "+------------+------+--------+----------+----+--------------------+----------+\n",
      "only showing top 20 rows\n",
      "\n"
     ]
    }
   ],
   "source": [
    "transformed_df.show()"
   ]
  },
  {
   "cell_type": "code",
   "execution_count": 9,
   "metadata": {},
   "outputs": [],
   "source": [
    "# create dataframe for each centroid\n",
    "centroids = model.clusterCenters()\n",
    "centroids = np.array(centroids).T.tolist()\n",
    "centroids.append([i for i in range(len(input_cols))])\n",
    "\n",
    "R = Row(\"danceability\", \"energy\", \"loudness\", \"hotness\", \"centroid\")\n",
    "centroids_df = sc.parallelize([R(*r) for r in zip(*centroids)]).toDF()"
   ]
  },
  {
   "cell_type": "code",
   "execution_count": 10,
   "metadata": {},
   "outputs": [
    {
     "name": "stdout",
     "output_type": "stream",
     "text": [
      "+------------+------+-------------------+-------------------+--------+\n",
      "|danceability|energy|           loudness|            hotness|centroid|\n",
      "+------------+------+-------------------+-------------------+--------+\n",
      "|         0.0|   0.0|  -5.45759555498759|0.49935485538509156|       0|\n",
      "|         0.0|   0.0|-14.927767576612869| 0.3679735965019948|       1|\n",
      "|         0.0|   0.0|-25.208220417216673|0.36172923887685193|       2|\n",
      "|         0.0|   0.0| -9.693064374493133| 0.4231813657638777|       3|\n",
      "+------------+------+-------------------+-------------------+--------+\n",
      "\n"
     ]
    }
   ],
   "source": [
    "centroids_df.show()"
   ]
  },
  {
   "cell_type": "code",
   "execution_count": 11,
   "metadata": {},
   "outputs": [],
   "source": [
    "# add fictional genre to each centroid\n",
    "genres = [\"hot&loud\", \"plain\", \"mellow&soft\", \"mainstream\"]\n",
    "\n",
    "def add_genre(centroid):\n",
    "    return genres[int(centroid)]\n",
    "\n",
    "udf_add_genre = udf(add_genre, StringType())\n",
    "genres_df = centroids_df.withColumn(\"genre\", udf_add_genre(\"centroid\")).select(\"centroid\", \"genre\")"
   ]
  },
  {
   "cell_type": "code",
   "execution_count": 12,
   "metadata": {},
   "outputs": [
    {
     "name": "stdout",
     "output_type": "stream",
     "text": [
      "+--------+-----------+\n",
      "|centroid|      genre|\n",
      "+--------+-----------+\n",
      "|       0|   hot&loud|\n",
      "|       1|      plain|\n",
      "|       2|mellow&soft|\n",
      "|       3| mainstream|\n",
      "+--------+-----------+\n",
      "\n"
     ]
    }
   ],
   "source": [
    "genres_df.show()"
   ]
  },
  {
   "cell_type": "code",
   "execution_count": 13,
   "metadata": {},
   "outputs": [],
   "source": [
    "# add centroid genre to songs\n",
    "song_genres_df = transformed_df.join(broadcast(genres_df), transformed_df.prediction == genres_df.centroid) \\\n",
    "    .select(\"danceability\", \"energy\", \"loudness\", \"hotness\", \"year\", \"genre\")"
   ]
  },
  {
   "cell_type": "code",
   "execution_count": 14,
   "metadata": {},
   "outputs": [
    {
     "name": "stdout",
     "output_type": "stream",
     "text": [
      "+------------+------+--------+----------+----+-----------+\n",
      "|danceability|energy|loudness|   hotness|year|      genre|\n",
      "+------------+------+--------+----------+----+-----------+\n",
      "|         0.0|   0.0|  -9.636|0.54795295|2008| mainstream|\n",
      "|         0.0|   0.0| -11.061|0.47563848|2004| mainstream|\n",
      "|         0.0|   0.0|  -4.264| 0.7883882|1982|   hot&loud|\n",
      "|         0.0|   0.0|  -4.707|  0.681092|2004|   hot&loud|\n",
      "|         0.0|   0.0|  -4.523|0.40148672|2005|   hot&loud|\n",
      "|         0.0|   0.0|  -4.076| 0.6878737|2004|   hot&loud|\n",
      "|         0.0|   0.0|  -3.312|0.35528553|2001|   hot&loud|\n",
      "|         0.0|   0.0| -25.651|0.21508032|1982|mellow&soft|\n",
      "|         0.0|   0.0|  -6.052|0.87222904|2000|   hot&loud|\n",
      "|         0.0|   0.0| -15.433| 0.5968407|1981|      plain|\n",
      "|         0.0|   0.0|  -4.325| 0.6248335|2007|   hot&loud|\n",
      "|         0.0|   0.0|  -5.193|0.42744657|2008|   hot&loud|\n",
      "|         0.0|   0.0|  -6.712|       0.0|2004|   hot&loud|\n",
      "|         0.0|   0.0|   -4.13| 0.4871122|2007|   hot&loud|\n",
      "|         0.0|   0.0|  -7.687|0.28848165|1978| mainstream|\n",
      "|         0.0|   0.0|  -7.687| 0.5675917|1995| mainstream|\n",
      "|         0.0|   0.0|  -21.82|0.50403434|2000|mellow&soft|\n",
      "|         0.0|   0.0|  -5.548|    0.5764|2005|   hot&loud|\n",
      "|         0.0|   0.0|  -7.057| 0.4764352|2007|   hot&loud|\n",
      "|         0.0|   0.0| -13.845| 0.2998775|1986|      plain|\n",
      "+------------+------+--------+----------+----+-----------+\n",
      "only showing top 20 rows\n",
      "\n"
     ]
    }
   ],
   "source": [
    "song_genres_df.show()"
   ]
  },
  {
   "cell_type": "code",
   "execution_count": 15,
   "metadata": {},
   "outputs": [],
   "source": [
    "song_genres_df.createOrReplaceTempView(\"songs_with_genres\")"
   ]
  },
  {
   "cell_type": "code",
   "execution_count": 16,
   "metadata": {},
   "outputs": [
    {
     "name": "stdout",
     "output_type": "stream",
     "text": [
      "There are 1041 mainstream songs in the dataset\n",
      "There are 1350 hot&loud songs in the dataset\n",
      "There are 118 mellow&soft songs in the dataset\n",
      "There are 555 plain songs in the dataset\n"
     ]
    }
   ],
   "source": [
    "n_mainstream_songs = spark.sql(\"SELECT COUNT(*) FROM songs_with_genres WHERE genre = \\\"mainstream\\\"\").collect()[0][0]\n",
    "n_hotnloud_songs = spark.sql(\"SELECT COUNT(*) FROM songs_with_genres WHERE genre = \\\"hot&loud\\\"\").collect()[0][0]\n",
    "n_mellownsoft_songs = spark.sql(\"SELECT COUNT(*) FROM songs_with_genres WHERE genre = \\\"mellow&soft\\\"\").collect()[0][0]\n",
    "n_plain_songs = spark.sql(\"SELECT COUNT(*) FROM songs_with_genres WHERE genre = \\\"plain\\\"\").collect()[0][0]\n",
    "\n",
    "print(\"There are %d mainstream songs in the dataset\" % (n_mainstream_songs))\n",
    "print(\"There are %d hot&loud songs in the dataset\" % (n_hotnloud_songs))\n",
    "print(\"There are %d mellow&soft songs in the dataset\" % (n_mellownsoft_songs))\n",
    "print(\"There are %d plain songs in the dataset\" % (n_plain_songs))"
   ]
  },
  {
   "cell_type": "code",
   "execution_count": null,
   "metadata": {},
   "outputs": [],
   "source": []
  }
 ],
 "metadata": {
  "kernelspec": {
   "display_name": "Python 3",
   "language": "python",
   "name": "python3"
  },
  "language_info": {
   "codemirror_mode": {
    "name": "ipython",
    "version": 3
   },
   "file_extension": ".py",
   "mimetype": "text/x-python",
   "name": "python",
   "nbconvert_exporter": "python",
   "pygments_lexer": "ipython3",
   "version": "3.6.5"
  }
 },
 "nbformat": 4,
 "nbformat_minor": 2
}
