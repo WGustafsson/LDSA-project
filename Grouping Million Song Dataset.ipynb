{
 "cells": [
  {
   "cell_type": "code",
   "execution_count": 1,
   "metadata": {},
   "outputs": [],
   "source": [
    "# Imports & Spark setup\n",
    "from tools import setup_spark_config, read_parquet_files\n",
    "from pyspark.ml.feature import QuantileDiscretizer\n",
    "\n",
    "sc, spark = setup_spark_config(\"Grouping Million Song Dataset\")"
   ]
  },
  {
   "cell_type": "code",
   "execution_count": 2,
   "metadata": {},
   "outputs": [
    {
     "name": "stdout",
     "output_type": "stream",
     "text": [
      "Reading songs from parquet files to DataFrame\n"
     ]
    }
   ],
   "source": [
    "# read songs data from parquet files\n",
    "basedir = 'parsed-MillionSongSubset'\n",
    "songs_df = read_parquet_files(basedir, spark)"
   ]
  },
  {
   "cell_type": "code",
   "execution_count": 3,
   "metadata": {},
   "outputs": [
    {
     "name": "stdout",
     "output_type": "stream",
     "text": [
      "+--------+------------+----+------------------+--------------+---+-------+\n",
      "|loudness|song_hotness|year|artist_familiarity|artist_hotness|key|  tempo|\n",
      "+--------+------------+----+------------------+--------------+---+-------+\n",
      "|  -9.636|  0.54795295|2008|        0.55746025|    0.38615164|  0|124.059|\n",
      "| -11.061|  0.47563848|2004|         0.6269577|     0.4348596|  1| 80.084|\n",
      "|  -4.264|   0.7883882|1982|        0.73703754|     0.5392454| 10| 92.897|\n",
      "|  -4.707|    0.681092|2004|         0.8218443|     0.5924395|  0|157.715|\n",
      "|  -4.523|  0.40148672|2005|        0.49579692|    0.38949883|  0|146.331|\n",
      "|  -4.076|   0.6878737|2004|        0.73343325|     0.4555588|  0| 84.992|\n",
      "|  -3.312|  0.35528553|2001|        0.48433375|     0.3359355|  1| 99.959|\n",
      "| -25.651|  0.21508032|1982|         0.5772761|    0.37693998|  1|104.989|\n",
      "|  -6.052|  0.87222904|2000|         0.8873861|      0.791143|  4|105.095|\n",
      "| -15.433|   0.5968407|1981|         0.6559214|     0.5783016|  5|100.042|\n",
      "|  -4.325|   0.6248335|2007|        0.55454856|     0.4115458|  3| 92.971|\n",
      "|  -5.193|  0.42744657|2008|          0.612543|    0.45966047| 11|117.936|\n",
      "|  -6.712|         0.0|2004|         0.6117883|    0.33672684|  7|104.465|\n",
      "|   -4.13|   0.4871122|2007|         0.9089843|     0.5625067|  4| 91.026|\n",
      "|  -7.687|  0.28848165|1978|        0.51462424|    0.36951157|  4|134.985|\n",
      "|  -7.687|   0.5675917|1995|         0.6639529|    0.39207578| 11|  88.12|\n",
      "|  -21.82|  0.50403434|2000|        0.67497027|    0.42495307|  5|131.281|\n",
      "|  -5.548|      0.5764|2005|        0.63204175|     0.3879116|  9|136.945|\n",
      "|  -7.057|   0.4764352|2007|        0.89993495|    0.68365806|  1| 188.91|\n",
      "| -13.845|   0.2998775|1986|        0.61760867|    0.40596735|  7|156.285|\n",
      "+--------+------------+----+------------------+--------------+---+-------+\n",
      "only showing top 20 rows\n",
      "\n"
     ]
    }
   ],
   "source": [
    "songs_df.show()"
   ]
  },
  {
   "cell_type": "code",
   "execution_count": 4,
   "metadata": {},
   "outputs": [],
   "source": [
    "songs_df.createOrReplaceTempView(\"songs\")"
   ]
  },
  {
   "cell_type": "code",
   "execution_count": 6,
   "metadata": {},
   "outputs": [],
   "source": [
    "# group songs by year\n",
    "grouped_year_songs_df = spark.sql(\"SELECT AVG(loudness), \\\n",
    "                              AVG(song_hotness), AVG(artist_familiarity), \\\n",
    "                              AVG(key), AVG(tempo), \\\n",
    "                              AVG(artist_hotness), year FROM songs \\\n",
    "                              GROUP BY year\")"
   ]
  },
  {
   "cell_type": "code",
   "execution_count": 7,
   "metadata": {},
   "outputs": [
    {
     "name": "stdout",
     "output_type": "stream",
     "text": [
      "There are songs from 55 different years in the dataset\n"
     ]
    }
   ],
   "source": [
    "n_years = grouped_year_songs_df.count()\n",
    "print(\"There are songs from %d different years in the dataset\" % (n_years))"
   ]
  },
  {
   "cell_type": "code",
   "execution_count": 8,
   "metadata": {},
   "outputs": [
    {
     "name": "stdout",
     "output_type": "stream",
     "text": [
      "+-------------------+-------------------+-----------------------+------------------+------------------+-------------------+----+\n",
      "|      avg(loudness)|  avg(song_hotness)|avg(artist_familiarity)|          avg(key)|        avg(tempo)|avg(artist_hotness)|year|\n",
      "+-------------------+-------------------+-----------------------+------------------+------------------+-------------------+----+\n",
      "| -7.762981476607146|  0.563357169981356|     0.6528117033066573| 5.814814814814815|121.26220364040799| 0.4607585279477967|2010|\n",
      "| -8.098129057756035| 0.5018193852356685|      0.661958682921625| 5.526881720430108|127.85901081946588| 0.4606414744930883|2009|\n",
      "| -7.666779771447182|  0.499955424418052|      0.669840328484064| 5.119047619047619|129.57367274874733| 0.4657232601727758|2008|\n",
      "| -7.863054733371261|0.44247311116451055|     0.6615233765312688|  5.36318407960199|127.57285067809755|0.45055698684940293|2007|\n",
      "| -7.882186937554974|0.43157015413602934|     0.6377229931215956| 4.985981308411215|126.25086944793986| 0.4307796360454827|2006|\n",
      "| -8.571008605689839|0.44272370174013337|     0.6397717094113087| 5.461206896551724|125.30791335270322| 0.4478638414935819|2005|\n",
      "| -8.169778960002096|0.45394635710277054|     0.6505119932325263| 5.394736842105263|124.59236829657304|0.44990314143268684|2004|\n",
      "| -8.583950278508729|0.45536839657396244|     0.6416212456990342| 5.232044198895028| 124.8563256448145|0.44817591372115834|2003|\n",
      "| -8.481409092744192| 0.4328537909596255|     0.6468444768000733| 5.401515151515151|126.68405284303607| 0.4647880864865852|2002|\n",
      "| -8.155470170191865|0.46835622725202075|     0.6230755208143547|4.7388059701492535|122.72200783686851|0.43569344104225954|2001|\n",
      "| -9.635656737569553|0.41006667789683415|     0.6279578951757345| 5.753731343283582| 126.5455745298471| 0.4410589317332453|2000|\n",
      "|  -8.84572178384532| 0.4265520812376686|     0.6291067878189294| 5.373913043478261|121.31287878285283| 0.4375183613403984|1999|\n",
      "| -9.551801861457104|0.40444800876221565|     0.6023044693020155| 5.188679245283019|116.05034900161455| 0.4166410638476318|1998|\n",
      "| -9.658337536454201|0.42661235854029655|     0.6537685036659241|            4.9875|124.07181224822997| 0.4522993046790361|1997|\n",
      "| -9.959738485629742|0.43462626200455884|     0.6630575684400705| 5.123076923076923|128.69127701979417|0.46378860702881447|1996|\n",
      "|-11.063132538852921| 0.4333102451749595|      0.610209905598537| 5.831325301204819| 125.3856992606657|0.43308773152081365|1995|\n",
      "|-11.463902791341146|0.39143112177650136|     0.6191169316363003| 5.222222222222222|130.74736081229315|0.44122649108370143|1994|\n",
      "|-12.894958933738813|0.34794831173877194|     0.6123046176890804| 5.232876712328767|121.83239683386398| 0.4295088603888472|1993|\n",
      "|-10.997599997887244|0.42905153036117555|     0.6095077225795159|5.3538461538461535|123.86864624023437| 0.4255653540675457|1992|\n",
      "|-11.698386008279366| 0.4352835061257346|     0.6153072123987633|  5.12280701754386|  119.191421241091|0.44027575536778096|1991|\n",
      "+-------------------+-------------------+-----------------------+------------------+------------------+-------------------+----+\n",
      "only showing top 20 rows\n",
      "\n"
     ]
    }
   ],
   "source": [
    "grouped_year_songs_df.orderBy(\"year\", ascending=False).show()"
   ]
  },
  {
   "cell_type": "code",
   "execution_count": 10,
   "metadata": {},
   "outputs": [
    {
     "name": "stdout",
     "output_type": "stream",
     "text": [
      "28.33% correlation between loudness and year\n",
      "7.22% correlation between song_hotness and year\n",
      "10.06% correlation between artist familiarity and year\n",
      "2.56% correlation between key and year\n",
      "1.02% correlation between tempo and year\n",
      "6.42% correlation between artist_hotness and year\n"
     ]
    }
   ],
   "source": [
    "# see linear correlation between years and the other features\n",
    "loudness_correlation = 100*float(songs_df.stat.corr(\"loudness\", \"year\"))\n",
    "song_hotness_correlation = 100*float(songs_df.stat.corr(\"song_hotness\", \"year\"))\n",
    "artist_familiarity_correlation = 100*float(songs_df.stat.corr(\"artist_familiarity\", \"year\"))\n",
    "key_correlation = 100*float(songs_df.stat.corr(\"key\", \"year\"))\n",
    "tempo_correlation = 100*float(songs_df.stat.corr(\"tempo\", \"year\"))\n",
    "artist_hotness_correlation = 100*float(songs_df.stat.corr(\"artist_hotness\", \"year\"))\n",
    "\n",
    "print(\"%0.2f%% correlation between loudness and year\" % (loudness_correlation))\n",
    "print(\"%0.2f%% correlation between song_hotness and year\" % (song_hotness_correlation))\n",
    "print(\"%0.2f%% correlation between artist_familiarity and year\" % (artist_familiarity_correlation))\n",
    "print(\"%0.2f%% correlation between key and year\" % (key_correlation))\n",
    "print(\"%0.2f%% correlation between tempo and year\" % (tempo_correlation))\n",
    "print(\"%0.2f%% correlation between artist_hotness and year\" % (artist_hotness_correlation))"
   ]
  },
  {
   "cell_type": "code",
   "execution_count": 11,
   "metadata": {},
   "outputs": [
    {
     "name": "stdout",
     "output_type": "stream",
     "text": [
      "67.24% correlation between avg(loudness) and year\n",
      "44.95% correlation between avg(song_hotness) and year\n",
      "48.90% correlation between avg(artist_familiarity) and year\n",
      "16.01% correlation between avg(key) and year\n",
      "15.08% correlation between avg(tempo) and year\n",
      "49.43% correlation between avg(artist_hotness) and year\n"
     ]
    }
   ],
   "source": [
    "# see linear correlation between years and the average of other features\n",
    "loudness_correlation = 100*float(grouped_year_songs_df.stat.corr(\"avg(loudness)\", \"year\"))\n",
    "song_hotness_correlation = 100*float(grouped_year_songs_df.stat.corr(\"avg(song_hotness)\", \"year\"))\n",
    "artist_familiarity_correlation = 100*float(grouped_year_songs_df.stat.corr(\"avg(artist_familiarity)\", \"year\"))\n",
    "key_correlation = 100*float(grouped_year_songs_df.stat.corr(\"avg(key)\", \"year\"))\n",
    "tempo_correlation = 100*float(grouped_year_songs_df.stat.corr(\"avg(tempo)\", \"year\"))\n",
    "artist_hotness_correlation = 100*float(grouped_year_songs_df.stat.corr(\"avg(artist_hotness)\", \"year\"))\n",
    "\n",
    "print(\"%0.2f%% correlation between avg(loudness) and year\" % (loudness_correlation))\n",
    "print(\"%0.2f%% correlation between avg(song_hotness) and year\" % (song_hotness_correlation))\n",
    "print(\"%0.2f%% correlation between avg(artist_familiarity) and year\" % (artist_familiarity_correlation))\n",
    "print(\"%0.2f%% correlation between avg(key) and year\" % (key_correlation))\n",
    "print(\"%0.2f%% correlation between avg(tempo) and year\" % (tempo_correlation))\n",
    "print(\"%0.2f%% correlation between avg(artist_hotness) and year\" % (artist_hotness_correlation))"
   ]
  },
  {
   "cell_type": "code",
   "execution_count": 12,
   "metadata": {},
   "outputs": [],
   "source": [
    "# discretize hotness to 10 different values\n",
    "discretizer = QuantileDiscretizer(numBuckets=10, inputCol=\"song_hotness\", outputCol=\"discrete_song_hotness\")\n",
    "discretized_df = discretizer.fit(songs_df).transform(songs_df)"
   ]
  },
  {
   "cell_type": "code",
   "execution_count": 13,
   "metadata": {},
   "outputs": [
    {
     "name": "stdout",
     "output_type": "stream",
     "text": [
      "+--------+------------+----+------------------+--------------+---+-------+---------------------+\n",
      "|loudness|song_hotness|year|artist_familiarity|artist_hotness|key|  tempo|discrete_song_hotness|\n",
      "+--------+------------+----+------------------+--------------+---+-------+---------------------+\n",
      "|  -9.636|  0.54795295|2008|        0.55746025|    0.38615164|  0|124.059|                  6.0|\n",
      "| -11.061|  0.47563848|2004|         0.6269577|     0.4348596|  1| 80.084|                  5.0|\n",
      "|  -4.264|   0.7883882|1982|        0.73703754|     0.5392454| 10| 92.897|                  9.0|\n",
      "|  -4.707|    0.681092|2004|         0.8218443|     0.5924395|  0|157.715|                  8.0|\n",
      "|  -4.523|  0.40148672|2005|        0.49579692|    0.38949883|  0|146.331|                  3.0|\n",
      "|  -4.076|   0.6878737|2004|        0.73343325|     0.4555588|  0| 84.992|                  8.0|\n",
      "|  -3.312|  0.35528553|2001|        0.48433375|     0.3359355|  1| 99.959|                  3.0|\n",
      "| -25.651|  0.21508032|1982|         0.5772761|    0.37693998|  1|104.989|                  1.0|\n",
      "|  -6.052|  0.87222904|2000|         0.8873861|      0.791143|  4|105.095|                  9.0|\n",
      "| -15.433|   0.5968407|1981|         0.6559214|     0.5783016|  5|100.042|                  7.0|\n",
      "|  -4.325|   0.6248335|2007|        0.55454856|     0.4115458|  3| 92.971|                  7.0|\n",
      "|  -5.193|  0.42744657|2008|          0.612543|    0.45966047| 11|117.936|                  4.0|\n",
      "|  -6.712|         0.0|2004|         0.6117883|    0.33672684|  7|104.465|                  1.0|\n",
      "|   -4.13|   0.4871122|2007|         0.9089843|     0.5625067|  4| 91.026|                  5.0|\n",
      "|  -7.687|  0.28848165|1978|        0.51462424|    0.36951157|  4|134.985|                  2.0|\n",
      "|  -7.687|   0.5675917|1995|         0.6639529|    0.39207578| 11|  88.12|                  6.0|\n",
      "|  -21.82|  0.50403434|2000|        0.67497027|    0.42495307|  5|131.281|                  5.0|\n",
      "|  -5.548|      0.5764|2005|        0.63204175|     0.3879116|  9|136.945|                  6.0|\n",
      "|  -7.057|   0.4764352|2007|        0.89993495|    0.68365806|  1| 188.91|                  5.0|\n",
      "| -13.845|   0.2998775|1986|        0.61760867|    0.40596735|  7|156.285|                  2.0|\n",
      "+--------+------------+----+------------------+--------------+---+-------+---------------------+\n",
      "only showing top 20 rows\n",
      "\n"
     ]
    }
   ],
   "source": [
    "discretized_df.show()"
   ]
  },
  {
   "cell_type": "code",
   "execution_count": 14,
   "metadata": {},
   "outputs": [],
   "source": [
    "discretized_df.createOrReplaceTempView(\"discrete_hotness_songs\")"
   ]
  },
  {
   "cell_type": "code",
   "execution_count": 17,
   "metadata": {},
   "outputs": [],
   "source": [
    "# group songs by hotness\n",
    "grouped_hotness_songs_df = spark.sql(\"SELECT AVG(loudness), \\\n",
    "                              AVG(artist_familiarity), \\\n",
    "                              AVG(key), AVG(tempo), \\\n",
    "                              AVG(artist_hotness), discrete_song_hotness FROM discrete_hotness_songs \\\n",
    "                              GROUP BY discrete_song_hotness\")"
   ]
  },
  {
   "cell_type": "code",
   "execution_count": 19,
   "metadata": {},
   "outputs": [
    {
     "name": "stdout",
     "output_type": "stream",
     "text": [
      "+-------------------+-----------------------+------------------+------------------+-------------------+---------------------+\n",
      "|      avg(loudness)|avg(artist_familiarity)|          avg(key)|        avg(tempo)|avg(artist_hotness)|discrete_song_hotness|\n",
      "+-------------------+-----------------------+------------------+------------------+-------------------+---------------------+\n",
      "| -7.300693565799344|     0.7688744101793535| 5.067741935483871|129.60604507692398| 0.5577006425588361|                  9.0|\n",
      "| -7.845457530878727|     0.7184116879319833| 5.428104575163399|128.08759440004437|  0.505188079684778|                  8.0|\n",
      "|  -8.58589251499611|     0.6941242202303406| 5.361563517915309| 128.5459022149201| 0.4847280896156541|                  7.0|\n",
      "| -8.910549040713342|     0.6565574244930853| 5.741830065359477|126.39117654787948|0.45452985907691756|                  6.0|\n",
      "| -8.918314111156342|     0.6399761292462548| 5.201923076923077|125.29110584503564|0.44578717157053643|                  5.0|\n",
      "| -9.681052802419504|     0.6238809729074881| 5.297029702970297|123.53531365976869| 0.4333497580915394|                  4.0|\n",
      "|-10.038973874515957|     0.6005147186174892|5.3431372549019605|126.83945123510424|0.41448965410586275|                  3.0|\n",
      "|-10.630196536207475|     0.5863737671964431| 5.286127167630058|121.63791010421136|0.40296376037890513|                  2.0|\n",
      "|-10.960292253485868|      0.535287006463016| 4.943661971830986|122.43461618289142|0.36608596551428796|                  1.0|\n",
      "+-------------------+-----------------------+------------------+------------------+-------------------+---------------------+\n",
      "\n"
     ]
    }
   ],
   "source": [
    "grouped_hotness_songs_df.orderBy(\"discrete_song_hotness\", ascending=False).show()"
   ]
  },
  {
   "cell_type": "code",
   "execution_count": 26,
   "metadata": {},
   "outputs": [
    {
     "name": "stdout",
     "output_type": "stream",
     "text": [
      "24.16% correlation between loudness and discrete_song_hotness\n",
      "48.78% correlation between artist_hotness and discrete_song_hotness\n",
      "53.29% correlation between artist_familiarity and discrete_song_hotness\n",
      "2.60% correlation between key and discrete_song_hotness\n",
      "6.98% correlation between tempo and discrete_song_hotness\n",
      "48.78% correlation between year and discrete_song_hotness\n"
     ]
    }
   ],
   "source": [
    "# see linear correlation between discrete_hotness and the other features\n",
    "loudness_correlation = 100*float(discretized_df.stat.corr(\"loudness\", \"discrete_song_hotness\"))\n",
    "artist_hotness_correlation = 100*float(discretized_df.stat.corr(\"artist_hotness\", \"discrete_song_hotness\"))\n",
    "artist_familiarity_correlation = 100*float(discretized_df.stat.corr(\"artist_familiarity\", \"discrete_song_hotness\"))\n",
    "key_correlation = 100*float(discretized_df.stat.corr(\"key\", \"discrete_song_hotness\"))\n",
    "tempo_correlation = 100*float(discretized_df.stat.corr(\"tempo\", \"discrete_song_hotness\"))\n",
    "year_correlation = 100*float(discretized_df.stat.corr(\"year\", \"discrete_song_hotness\"))\n",
    "\n",
    "print(\"%0.2f%% correlation between loudness and discrete_song_hotness\" % (loudness_correlation))\n",
    "print(\"%0.2f%% correlation between artist_hotness and discrete_song_hotness\" % (artist_hotness_correlation))\n",
    "print(\"%0.2f%% correlation between artist_familiarity and discrete_song_hotness\" % (artist_familiarity_correlation))\n",
    "print(\"%0.2f%% correlation between key and discrete_song_hotness\" % (key_correlation))\n",
    "print(\"%0.2f%% correlation between tempo and discrete_song_hotness\" % (tempo_correlation))\n",
    "print(\"%0.2f%% correlation between year and discrete_song_hotness\" % (artist_hotness_correlation))"
   ]
  },
  {
   "cell_type": "code",
   "execution_count": 27,
   "metadata": {},
   "outputs": [
    {
     "name": "stdout",
     "output_type": "stream",
     "text": [
      "99.14% correlation between avg(loudness) and discrete_song_hotness\n",
      "97.64% correlation between avg(artist_hotness) and discrete_song_hotness\n",
      "98.65% correlation between avg(artist_familiarity) and discrete_song_hotness\n",
      "28.38% correlation between avg(key) and discrete_song_hotness\n",
      "88.52% correlation between avg(tempo) and discrete_song_hotness\n"
     ]
    }
   ],
   "source": [
    "# see linear correlation between discrete_hotness and the average of the other features\n",
    "loudness_correlation = 100*float(grouped_hotness_songs_df.stat.corr(\"avg(loudness)\", \"discrete_song_hotness\"))\n",
    "song_hotness_correlation = 100*float(grouped_hotness_songs_df.stat.corr(\"avg(artist_hotness)\", \"discrete_song_hotness\"))\n",
    "artist_familiarity_correlation = 100*float(grouped_hotness_songs_df.stat.corr(\"avg(artist_familiarity)\", \"discrete_song_hotness\"))\n",
    "key_correlation = 100*float(grouped_hotness_songs_df.stat.corr(\"avg(key)\", \"discrete_song_hotness\"))\n",
    "tempo_correlation = 100*float(grouped_hotness_songs_df.stat.corr(\"avg(tempo)\", \"discrete_song_hotness\"))\n",
    "\n",
    "print(\"%0.2f%% correlation between avg(loudness) and discrete_song_hotness\" % (loudness_correlation))\n",
    "print(\"%0.2f%% correlation between avg(artist_hotness) and discrete_song_hotness\" % (song_hotness_correlation))\n",
    "print(\"%0.2f%% correlation between avg(artist_familiarity) and discrete_song_hotness\" % (artist_familiarity_correlation))\n",
    "print(\"%0.2f%% correlation between avg(key) and discrete_song_hotness\" % (key_correlation))\n",
    "print(\"%0.2f%% correlation between avg(tempo) and discrete_song_hotness\" % (tempo_correlation))"
   ]
  },
  {
   "cell_type": "code",
   "execution_count": null,
   "metadata": {},
   "outputs": [],
   "source": []
  }
 ],
 "metadata": {
  "kernelspec": {
   "display_name": "Python 3",
   "language": "python",
   "name": "python3"
  },
  "language_info": {
   "codemirror_mode": {
    "name": "ipython",
    "version": 3
   },
   "file_extension": ".py",
   "mimetype": "text/x-python",
   "name": "python",
   "nbconvert_exporter": "python",
   "pygments_lexer": "ipython3",
   "version": "3.6.5"
  }
 },
 "nbformat": 4,
 "nbformat_minor": 2
}
