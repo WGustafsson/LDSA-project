{
 "cells": [
  {
   "cell_type": "code",
   "execution_count": 1,
   "metadata": {},
   "outputs": [],
   "source": [
    "# Imports & Spark setup\n",
    "from tools import setup_spark_config, read_parquet_files\n",
    "from pyspark.ml.feature import QuantileDiscretizer\n",
    "\n",
    "sc, spark = setup_spark_config(\"Grouping Million Song Dataset\")"
   ]
  },
  {
   "cell_type": "code",
   "execution_count": 2,
   "metadata": {},
   "outputs": [
    {
     "name": "stdout",
     "output_type": "stream",
     "text": [
      "Reading songs from parquet files to DataFrame\n"
     ]
    }
   ],
   "source": [
    "# read songs data from parquet files\n",
    "basedir = 'parsed-MillionSongSubset'\n",
    "songs_df = read_parquet_files(basedir, spark)"
   ]
  },
  {
   "cell_type": "code",
   "execution_count": 3,
   "metadata": {},
   "outputs": [
    {
     "name": "stdout",
     "output_type": "stream",
     "text": [
      "+------------+------+--------+----------+----+\n",
      "|danceability|energy|loudness|   hotness|year|\n",
      "+------------+------+--------+----------+----+\n",
      "|         0.0|   0.0|  -9.636|0.54795295|2008|\n",
      "|         0.0|   0.0| -11.061|0.47563848|2004|\n",
      "|         0.0|   0.0|  -4.264| 0.7883882|1982|\n",
      "|         0.0|   0.0|  -4.707|  0.681092|2004|\n",
      "|         0.0|   0.0|  -4.523|0.40148672|2005|\n",
      "|         0.0|   0.0|  -4.076| 0.6878737|2004|\n",
      "|         0.0|   0.0|  -3.312|0.35528553|2001|\n",
      "|         0.0|   0.0| -25.651|0.21508032|1982|\n",
      "|         0.0|   0.0|  -6.052|0.87222904|2000|\n",
      "|         0.0|   0.0| -15.433| 0.5968407|1981|\n",
      "|         0.0|   0.0|  -4.325| 0.6248335|2007|\n",
      "|         0.0|   0.0|  -5.193|0.42744657|2008|\n",
      "|         0.0|   0.0|  -6.712|       0.0|2004|\n",
      "|         0.0|   0.0|   -4.13| 0.4871122|2007|\n",
      "|         0.0|   0.0|  -7.687|0.28848165|1978|\n",
      "|         0.0|   0.0|  -7.687| 0.5675917|1995|\n",
      "|         0.0|   0.0|  -21.82|0.50403434|2000|\n",
      "|         0.0|   0.0|  -5.548|    0.5764|2005|\n",
      "|         0.0|   0.0|  -7.057| 0.4764352|2007|\n",
      "|         0.0|   0.0| -13.845| 0.2998775|1986|\n",
      "+------------+------+--------+----------+----+\n",
      "only showing top 20 rows\n",
      "\n"
     ]
    }
   ],
   "source": [
    "songs_df.show()"
   ]
  },
  {
   "cell_type": "code",
   "execution_count": 4,
   "metadata": {},
   "outputs": [],
   "source": [
    "songs_df.createOrReplaceTempView(\"songs\")"
   ]
  },
  {
   "cell_type": "code",
   "execution_count": 5,
   "metadata": {},
   "outputs": [],
   "source": [
    "# group songs by year\n",
    "grouped_year_songs_df = spark.sql(\"SELECT AVG(danceability), \\\n",
    "                              AVG(energy), AVG(loudness), \\\n",
    "                              AVG(hotness), year FROM songs \\\n",
    "                              GROUP BY year\")"
   ]
  },
  {
   "cell_type": "code",
   "execution_count": 6,
   "metadata": {},
   "outputs": [
    {
     "name": "stdout",
     "output_type": "stream",
     "text": [
      "There are songs from 55 different years in the dataset\n"
     ]
    }
   ],
   "source": [
    "n_years = grouped_year_songs_df.count()\n",
    "print(\"There are songs from %d different years in the dataset\" % (n_years))"
   ]
  },
  {
   "cell_type": "code",
   "execution_count": 7,
   "metadata": {},
   "outputs": [
    {
     "name": "stdout",
     "output_type": "stream",
     "text": [
      "+-----------------+-----------+-------------------+-------------------+----+\n",
      "|avg(danceability)|avg(energy)|      avg(loudness)|       avg(hotness)|year|\n",
      "+-----------------+-----------+-------------------+-------------------+----+\n",
      "|              0.0|        0.0| -7.762981476607146|  0.563357169981356|2010|\n",
      "|              0.0|        0.0| -8.098129057756035| 0.5018193852356685|2009|\n",
      "|              0.0|        0.0| -7.666779771447182|  0.499955424418052|2008|\n",
      "|              0.0|        0.0| -7.863054733371261|0.44247311116451055|2007|\n",
      "|              0.0|        0.0| -7.882186937554974|0.43157015413602934|2006|\n",
      "|              0.0|        0.0| -8.571008605689839|0.44272370174013337|2005|\n",
      "|              0.0|        0.0| -8.169778960002096|0.45394635710277054|2004|\n",
      "|              0.0|        0.0| -8.583950278508729|0.45536839657396244|2003|\n",
      "|              0.0|        0.0| -8.481409092744192| 0.4328537909596255|2002|\n",
      "|              0.0|        0.0| -8.155470170191865|0.46835622725202075|2001|\n",
      "|              0.0|        0.0| -9.635656737569553|0.41006667789683415|2000|\n",
      "|              0.0|        0.0|  -8.84572178384532| 0.4265520812376686|1999|\n",
      "|              0.0|        0.0| -9.551801861457104|0.40444800876221565|1998|\n",
      "|              0.0|        0.0| -9.658337536454201|0.42661235854029655|1997|\n",
      "|              0.0|        0.0| -9.959738485629742|0.43462626200455884|1996|\n",
      "|              0.0|        0.0|-11.063132538852921| 0.4333102451749595|1995|\n",
      "|              0.0|        0.0|-11.463902791341146|0.39143112177650136|1994|\n",
      "|              0.0|        0.0|-12.894958933738813|0.34794831173877194|1993|\n",
      "|              0.0|        0.0|-10.997599997887244|0.42905153036117555|1992|\n",
      "|              0.0|        0.0|-11.698386008279366| 0.4352835061257346|1991|\n",
      "+-----------------+-----------+-------------------+-------------------+----+\n",
      "only showing top 20 rows\n",
      "\n"
     ]
    }
   ],
   "source": [
    "grouped_year_songs_df.orderBy(\"year\", ascending=False).show()"
   ]
  },
  {
   "cell_type": "code",
   "execution_count": 8,
   "metadata": {},
   "outputs": [
    {
     "name": "stdout",
     "output_type": "stream",
     "text": [
      "nan% correlation between danceability and year\n",
      "nan% correlation between energy and year\n",
      "28.33% correlation between loudness and year\n",
      "7.22% correlation between year and year\n"
     ]
    }
   ],
   "source": [
    "# see linear correlation between years and the other features\n",
    "danceability_correlation = 100*float(songs_df.stat.corr(\"danceability\", \"year\"))\n",
    "energy_correlation = 100*float(songs_df.stat.corr(\"energy\", \"year\"))\n",
    "loudness_correlation = 100*float(songs_df.stat.corr(\"loudness\", \"year\"))\n",
    "hotness_correlation = 100*float(songs_df.stat.corr(\"hotness\", \"year\"))\n",
    "print(\"%0.2f%% correlation between danceability and year\" % (danceability_correlation))\n",
    "print(\"%0.2f%% correlation between energy and year\" % (energy_correlation))\n",
    "print(\"%0.2f%% correlation between loudness and year\" % (loudness_correlation))\n",
    "print(\"%0.2f%% correlation between year and year\" % (hotness_correlation))"
   ]
  },
  {
   "cell_type": "code",
   "execution_count": 9,
   "metadata": {},
   "outputs": [
    {
     "name": "stdout",
     "output_type": "stream",
     "text": [
      "nan% correlation between avg(danceability) and year\n",
      "nan% correlation between avg(energy) and year\n",
      "67.24% correlation between avg(loudness) and year\n",
      "44.95% correlation between avg(year) and year\n"
     ]
    }
   ],
   "source": [
    "# see linear correlation between years and the average of other features\n",
    "danceability_correlation = 100*float(grouped_year_songs_df.stat.corr(\"avg(danceability)\", \"year\"))\n",
    "energy_correlation = 100*float(grouped_year_songs_df.stat.corr(\"avg(energy)\", \"year\"))\n",
    "loudness_correlation = 100*float(grouped_year_songs_df.stat.corr(\"avg(loudness)\", \"year\"))\n",
    "hotness_correlation = 100*float(grouped_year_songs_df.stat.corr(\"avg(hotness)\", \"year\"))\n",
    "print(\"%0.2f%% correlation between avg(danceability) and year\" % (danceability_correlation))\n",
    "print(\"%0.2f%% correlation between avg(energy) and year\" % (energy_correlation))\n",
    "print(\"%0.2f%% correlation between avg(loudness) and year\" % (loudness_correlation))\n",
    "print(\"%0.2f%% correlation between avg(year) and year\" % (hotness_correlation))"
   ]
  },
  {
   "cell_type": "code",
   "execution_count": 10,
   "metadata": {},
   "outputs": [],
   "source": [
    "# discretize hotness to 10 different values\n",
    "discretizer = QuantileDiscretizer(numBuckets=10, inputCol=\"hotness\", outputCol=\"discrete_hotness\")\n",
    "discretized_df = discretizer.fit(songs_df).transform(songs_df)"
   ]
  },
  {
   "cell_type": "code",
   "execution_count": 11,
   "metadata": {},
   "outputs": [
    {
     "name": "stdout",
     "output_type": "stream",
     "text": [
      "+------------+------+--------+----------+----+----------------+\n",
      "|danceability|energy|loudness|   hotness|year|discrete_hotness|\n",
      "+------------+------+--------+----------+----+----------------+\n",
      "|         0.0|   0.0|  -9.636|0.54795295|2008|             6.0|\n",
      "|         0.0|   0.0| -11.061|0.47563848|2004|             5.0|\n",
      "|         0.0|   0.0|  -4.264| 0.7883882|1982|             9.0|\n",
      "|         0.0|   0.0|  -4.707|  0.681092|2004|             8.0|\n",
      "|         0.0|   0.0|  -4.523|0.40148672|2005|             3.0|\n",
      "|         0.0|   0.0|  -4.076| 0.6878737|2004|             8.0|\n",
      "|         0.0|   0.0|  -3.312|0.35528553|2001|             3.0|\n",
      "|         0.0|   0.0| -25.651|0.21508032|1982|             1.0|\n",
      "|         0.0|   0.0|  -6.052|0.87222904|2000|             9.0|\n",
      "|         0.0|   0.0| -15.433| 0.5968407|1981|             7.0|\n",
      "|         0.0|   0.0|  -4.325| 0.6248335|2007|             7.0|\n",
      "|         0.0|   0.0|  -5.193|0.42744657|2008|             4.0|\n",
      "|         0.0|   0.0|  -6.712|       0.0|2004|             1.0|\n",
      "|         0.0|   0.0|   -4.13| 0.4871122|2007|             5.0|\n",
      "|         0.0|   0.0|  -7.687|0.28848165|1978|             2.0|\n",
      "|         0.0|   0.0|  -7.687| 0.5675917|1995|             6.0|\n",
      "|         0.0|   0.0|  -21.82|0.50403434|2000|             5.0|\n",
      "|         0.0|   0.0|  -5.548|    0.5764|2005|             6.0|\n",
      "|         0.0|   0.0|  -7.057| 0.4764352|2007|             5.0|\n",
      "|         0.0|   0.0| -13.845| 0.2998775|1986|             2.0|\n",
      "+------------+------+--------+----------+----+----------------+\n",
      "only showing top 20 rows\n",
      "\n"
     ]
    }
   ],
   "source": [
    "discretized_df.show()"
   ]
  },
  {
   "cell_type": "code",
   "execution_count": 12,
   "metadata": {},
   "outputs": [],
   "source": [
    "discretized_df.createOrReplaceTempView(\"discrete_hotness_songs\")"
   ]
  },
  {
   "cell_type": "code",
   "execution_count": 13,
   "metadata": {},
   "outputs": [],
   "source": [
    "# group songs by hotness\n",
    "grouped_hotness_songs_df = spark.sql(\"SELECT AVG(danceability), \\\n",
    "                              AVG(energy), AVG(loudness), \\\n",
    "                              discrete_hotness FROM discrete_hotness_songs \\\n",
    "                              GROUP BY discrete_hotness\")"
   ]
  },
  {
   "cell_type": "code",
   "execution_count": 14,
   "metadata": {},
   "outputs": [
    {
     "name": "stdout",
     "output_type": "stream",
     "text": [
      "+-----------------+-----------+-------------------+----------------+\n",
      "|avg(danceability)|avg(energy)|      avg(loudness)|discrete_hotness|\n",
      "+-----------------+-----------+-------------------+----------------+\n",
      "|              0.0|        0.0| -7.300693565799344|             9.0|\n",
      "|              0.0|        0.0| -7.845457530878727|             8.0|\n",
      "|              0.0|        0.0|  -8.58589251499611|             7.0|\n",
      "|              0.0|        0.0| -8.910549040713342|             6.0|\n",
      "|              0.0|        0.0| -8.918314111156342|             5.0|\n",
      "|              0.0|        0.0| -9.681052802419504|             4.0|\n",
      "|              0.0|        0.0|-10.038973874515957|             3.0|\n",
      "|              0.0|        0.0|-10.630196536207475|             2.0|\n",
      "|              0.0|        0.0|-10.960292253485868|             1.0|\n",
      "+-----------------+-----------+-------------------+----------------+\n",
      "\n"
     ]
    }
   ],
   "source": [
    "grouped_hotness_songs_df.orderBy(\"discrete_hotness\", ascending=False).show()"
   ]
  },
  {
   "cell_type": "code",
   "execution_count": 15,
   "metadata": {},
   "outputs": [
    {
     "name": "stdout",
     "output_type": "stream",
     "text": [
      "nan% correlation between danceability and discretized hotness\n",
      "nan% correlation between energy and discretized hotness\n",
      "24.16% correlation between loudness and discretized hotness\n",
      "7.17% correlation between year and discretized hotness\n"
     ]
    }
   ],
   "source": [
    "# see linear correlation between discrete_hotness and the other features\n",
    "danceability_correlation = 100*float(discretized_df.stat.corr(\"danceability\", \"discrete_hotness\"))\n",
    "energy_correlation = 100*float(discretized_df.stat.corr(\"energy\", \"discrete_hotness\"))\n",
    "loudness_correlation = 100*float(discretized_df.stat.corr(\"loudness\", \"discrete_hotness\"))\n",
    "year_correlation = 100*float(discretized_df.stat.corr(\"year\", \"discrete_hotness\"))\n",
    "print(\"%0.2f%% correlation between danceability and discretized hotness\" % (danceability_correlation))\n",
    "print(\"%0.2f%% correlation between energy and discretized hotness\" % (energy_correlation))\n",
    "print(\"%0.2f%% correlation between loudness and discretized hotness\" % (loudness_correlation))\n",
    "print(\"%0.2f%% correlation between year and discretized hotness\" % (year_correlation))"
   ]
  },
  {
   "cell_type": "code",
   "execution_count": 16,
   "metadata": {},
   "outputs": [
    {
     "name": "stdout",
     "output_type": "stream",
     "text": [
      "nan% correlation between avg(danceability) and discretized hotness\n",
      "nan% correlation between avg(energy) and discretized hotness\n",
      "99.14% correlation between avg(loudness) and discretized hotness\n"
     ]
    }
   ],
   "source": [
    "# see linear correlation between discrete_hotness and the average of the other features\n",
    "danceability_correlation = 100*float(grouped_hotness_songs_df.stat.corr(\"avg(danceability)\", \"discrete_hotness\"))\n",
    "energy_correlation = 100*float(grouped_hotness_songs_df.stat.corr(\"avg(energy)\", \"discrete_hotness\"))\n",
    "loudness_correlation = 100*float(grouped_hotness_songs_df.stat.corr(\"avg(loudness)\", \"discrete_hotness\"))\n",
    "print(\"%0.2f%% correlation between avg(danceability) and discretized hotness\" % (danceability_correlation))\n",
    "print(\"%0.2f%% correlation between avg(energy) and discretized hotness\" % (energy_correlation))\n",
    "print(\"%0.2f%% correlation between avg(loudness) and discretized hotness\" % (loudness_correlation))"
   ]
  },
  {
   "cell_type": "code",
   "execution_count": null,
   "metadata": {},
   "outputs": [],
   "source": []
  }
 ],
 "metadata": {
  "kernelspec": {
   "display_name": "Python 3",
   "language": "python",
   "name": "python3"
  },
  "language_info": {
   "codemirror_mode": {
    "name": "ipython",
    "version": 3
   },
   "file_extension": ".py",
   "mimetype": "text/x-python",
   "name": "python",
   "nbconvert_exporter": "python",
   "pygments_lexer": "ipython3",
   "version": "3.6.5"
  }
 },
 "nbformat": 4,
 "nbformat_minor": 2
}
