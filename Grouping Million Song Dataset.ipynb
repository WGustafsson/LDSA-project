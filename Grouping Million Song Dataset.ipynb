{
 "cells": [
  {
   "cell_type": "code",
   "execution_count": 1,
   "metadata": {},
   "outputs": [],
   "source": [
    "# Imports & Spark setup\n",
    "from tools import setup_spark_config, read_parquet_files\n",
    "\n",
    "sc, spark = setup_spark_config(\"Grouping Million Song Dataset\")"
   ]
  },
  {
   "cell_type": "code",
   "execution_count": 2,
   "metadata": {},
   "outputs": [
    {
     "name": "stdout",
     "output_type": "stream",
     "text": [
      "Reading songs from parquet files to DataFrame\n"
     ]
    }
   ],
   "source": [
    "# read songs data from parquet files\n",
    "basedir = 'parsed_songs'\n",
    "songs_df = read_parquet_files(basedir, spark)"
   ]
  },
  {
   "cell_type": "code",
   "execution_count": 3,
   "metadata": {},
   "outputs": [
    {
     "name": "stdout",
     "output_type": "stream",
     "text": [
      "+------------+------+--------+----------+----+\n",
      "|danceability|energy|loudness|   hotness|year|\n",
      "+------------+------+--------+----------+----+\n",
      "|         0.0|   0.0|  -9.636|0.54795295|2008|\n",
      "|         0.0|   0.0| -11.061|0.47563848|2004|\n",
      "|         0.0|   0.0|  -4.264| 0.7883882|1982|\n",
      "|         0.0|   0.0|  -4.707|  0.681092|2004|\n",
      "|         0.0|   0.0|  -4.523|0.40148672|2005|\n",
      "|         0.0|   0.0|  -4.076| 0.6878737|2004|\n",
      "|         0.0|   0.0|  -3.312|0.35528553|2001|\n",
      "|         0.0|   0.0| -25.651|0.21508032|1982|\n",
      "|         0.0|   0.0|  -6.052|0.87222904|2000|\n",
      "|         0.0|   0.0| -15.433| 0.5968407|1981|\n",
      "|         0.0|   0.0|  -4.325| 0.6248335|2007|\n",
      "|         0.0|   0.0|  -5.193|0.42744657|2008|\n",
      "|         0.0|   0.0|  -6.712|       0.0|2004|\n",
      "|         0.0|   0.0|   -4.13| 0.4871122|2007|\n",
      "|         0.0|   0.0|  -7.687|0.28848165|1978|\n",
      "|         0.0|   0.0|  -7.687| 0.5675917|1995|\n",
      "|         0.0|   0.0|  -21.82|0.50403434|2000|\n",
      "|         0.0|   0.0|  -5.548|    0.5764|2005|\n",
      "|         0.0|   0.0|  -7.057| 0.4764352|2007|\n",
      "|         0.0|   0.0| -13.845| 0.2998775|1986|\n",
      "+------------+------+--------+----------+----+\n",
      "only showing top 20 rows\n",
      "\n"
     ]
    }
   ],
   "source": [
    "songs_df.show()"
   ]
  },
  {
   "cell_type": "code",
   "execution_count": 4,
   "metadata": {},
   "outputs": [],
   "source": [
    "songs_df.createOrReplaceTempView(\"songs\")"
   ]
  },
  {
   "cell_type": "code",
   "execution_count": 5,
   "metadata": {},
   "outputs": [],
   "source": [
    "# group songs by year\n",
    "grouped_songs_df = spark.sql(\"SELECT AVG(danceability), \\\n",
    "                              AVG(energy), AVG(loudness), \\\n",
    "                              AVG(hotness), year FROM songs \\\n",
    "                              GROUP BY year\")"
   ]
  },
  {
   "cell_type": "code",
   "execution_count": 6,
   "metadata": {},
   "outputs": [
    {
     "name": "stdout",
     "output_type": "stream",
     "text": [
      "There are songs from 55 different years in the dataset\n"
     ]
    }
   ],
   "source": [
    "n_years = grouped_songs_df.count()\n",
    "print(\"There are songs from %d different years in the dataset\" % (n_years))"
   ]
  },
  {
   "cell_type": "code",
   "execution_count": 7,
   "metadata": {},
   "outputs": [
    {
     "name": "stdout",
     "output_type": "stream",
     "text": [
      "+-----------------+-----------+-------------------+-------------------+----+\n",
      "|avg(danceability)|avg(energy)|      avg(loudness)|       avg(hotness)|year|\n",
      "+-----------------+-----------+-------------------+-------------------+----+\n",
      "|              0.0|        0.0|-16.695000171661377|0.16084817051887512|1959|\n",
      "|              0.0|        0.0|-11.740818169983951| 0.4608799009160562|1990|\n",
      "|              0.0|        0.0|-11.143846163382896| 0.3490769014908717|1975|\n",
      "|              0.0|        0.0|-11.969100069999694|0.44643600583076476|1977|\n",
      "|              0.0|        0.0| -8.583950278508729|0.45536839657396244|2003|\n",
      "|              0.0|        0.0| -7.863054733371261|0.44247311116451055|2007|\n",
      "|              0.0|        0.0|-10.984500050544739| 0.3309049904346466|1974|\n",
      "|              0.0|        0.0| -7.882186937554974|0.43157015413602934|2006|\n",
      "|              0.0|        0.0| -9.098999933762984|0.40245562249963934|1978|\n",
      "|              0.0|        0.0|-14.808500289916992|0.08367663621902466|1961|\n",
      "|              0.0|        0.0|-23.548999786376953|0.26586103439331055|1956|\n",
      "|              0.0|        0.0| -9.658337536454201|0.42661235854029655|1997|\n",
      "|              0.0|        0.0|-10.507170729520844| 0.4715091520693244|1988|\n",
      "|              0.0|        0.0|-11.463902791341146|0.39143112177650136|1994|\n",
      "|              0.0|        0.0|-12.504799938201904| 0.3772654592990875|1968|\n",
      "|              0.0|        0.0|-11.516666571299234| 0.3376831039786339|1973|\n",
      "|              0.0|        0.0|-12.157879962921143|0.44611557841300964|1979|\n",
      "|              0.0|        0.0|-11.976947357780055| 0.4185709325890792|1971|\n",
      "|              0.0|        0.0|-10.867800045013428| 0.4254952609539032|1966|\n",
      "|              0.0|        0.0| -8.169778960002096|0.45394635710277054|2004|\n",
      "+-----------------+-----------+-------------------+-------------------+----+\n",
      "only showing top 20 rows\n",
      "\n"
     ]
    }
   ],
   "source": [
    "grouped_songs_df.show()"
   ]
  },
  {
   "cell_type": "code",
   "execution_count": null,
   "metadata": {},
   "outputs": [],
   "source": []
  }
 ],
 "metadata": {
  "kernelspec": {
   "display_name": "Python 3",
   "language": "python",
   "name": "python3"
  },
  "language_info": {
   "codemirror_mode": {
    "name": "ipython",
    "version": 3
   },
   "file_extension": ".py",
   "mimetype": "text/x-python",
   "name": "python",
   "nbconvert_exporter": "python",
   "pygments_lexer": "ipython3",
   "version": "3.6.5"
  }
 },
 "nbformat": 4,
 "nbformat_minor": 2
}
